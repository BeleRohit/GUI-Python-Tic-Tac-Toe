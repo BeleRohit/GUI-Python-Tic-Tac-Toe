{
 "cells": [
  {
   "cell_type": "code",
   "execution_count": 2,
   "id": "8c9898df",
   "metadata": {},
   "outputs": [
    {
     "ename": "ImportError",
     "evalue": "cannot import name 'messagebox' from 'tkinter' (C:\\Users\\rohit\\Desktop\\All_About_Coding\\Python_Files\\TKinter\\tkinter.py)",
     "output_type": "error",
     "traceback": [
      "\u001b[1;31m---------------------------------------------------------------------------\u001b[0m",
      "\u001b[1;31mImportError\u001b[0m                               Traceback (most recent call last)",
      "\u001b[1;32m~\\AppData\\Local\\Temp/ipykernel_20196/1325375100.py\u001b[0m in \u001b[0;36m<module>\u001b[1;34m\u001b[0m\n\u001b[0;32m      1\u001b[0m \u001b[1;32mfrom\u001b[0m \u001b[0mtkinter\u001b[0m \u001b[1;32mimport\u001b[0m \u001b[1;33m*\u001b[0m\u001b[1;33m\u001b[0m\u001b[1;33m\u001b[0m\u001b[0m\n\u001b[1;32m----> 2\u001b[1;33m \u001b[1;32mfrom\u001b[0m \u001b[0mtkinter\u001b[0m \u001b[1;32mimport\u001b[0m \u001b[0mmessagebox\u001b[0m\u001b[1;33m\u001b[0m\u001b[1;33m\u001b[0m\u001b[0m\n\u001b[0m\u001b[0;32m      3\u001b[0m \u001b[1;32mimport\u001b[0m \u001b[0mrandom\u001b[0m \u001b[1;32mas\u001b[0m \u001b[0mr\u001b[0m\u001b[1;33m\u001b[0m\u001b[1;33m\u001b[0m\u001b[0m\n\u001b[0;32m      4\u001b[0m \u001b[1;32mdef\u001b[0m \u001b[0mbutton\u001b[0m\u001b[1;33m(\u001b[0m\u001b[0mframe\u001b[0m\u001b[1;33m)\u001b[0m\u001b[1;33m:\u001b[0m          \u001b[1;31m#Function to define a button\u001b[0m\u001b[1;33m\u001b[0m\u001b[1;33m\u001b[0m\u001b[0m\n\u001b[0;32m      5\u001b[0m     \u001b[0mb\u001b[0m\u001b[1;33m=\u001b[0m\u001b[0mButton\u001b[0m\u001b[1;33m(\u001b[0m\u001b[0mframe\u001b[0m\u001b[1;33m,\u001b[0m\u001b[0mpadx\u001b[0m\u001b[1;33m=\u001b[0m\u001b[1;36m1\u001b[0m\u001b[1;33m,\u001b[0m\u001b[0mbg\u001b[0m\u001b[1;33m=\u001b[0m\u001b[1;34m\"papaya whip\"\u001b[0m\u001b[1;33m,\u001b[0m\u001b[0mwidth\u001b[0m\u001b[1;33m=\u001b[0m\u001b[1;36m3\u001b[0m\u001b[1;33m,\u001b[0m\u001b[0mtext\u001b[0m\u001b[1;33m=\u001b[0m\u001b[1;34m\"   \"\u001b[0m\u001b[1;33m,\u001b[0m\u001b[0mfont\u001b[0m\u001b[1;33m=\u001b[0m\u001b[1;33m(\u001b[0m\u001b[1;34m'arial'\u001b[0m\u001b[1;33m,\u001b[0m\u001b[1;36m60\u001b[0m\u001b[1;33m,\u001b[0m\u001b[1;34m'bold'\u001b[0m\u001b[1;33m)\u001b[0m\u001b[1;33m,\u001b[0m\u001b[0mrelief\u001b[0m\u001b[1;33m=\u001b[0m\u001b[1;34m\"sunken\"\u001b[0m\u001b[1;33m,\u001b[0m\u001b[0mbd\u001b[0m\u001b[1;33m=\u001b[0m\u001b[1;36m10\u001b[0m\u001b[1;33m)\u001b[0m\u001b[1;33m\u001b[0m\u001b[1;33m\u001b[0m\u001b[0m\n",
      "\u001b[1;31mImportError\u001b[0m: cannot import name 'messagebox' from 'tkinter' (C:\\Users\\rohit\\Desktop\\All_About_Coding\\Python_Files\\TKinter\\tkinter.py)"
     ]
    }
   ],
   "source": [
    "from tkinter import *\n",
    "from tkinter import messagebox\n",
    "import random as r\n",
    "def button(frame):          #Function to define a button\n",
    "    b=Button(frame,padx=1,bg=\"papaya whip\",width=3,text=\"   \",font=('arial',60,'bold'),relief=\"sunken\",bd=10)\n",
    "    return b\n",
    "def change_a():             #Function to change the operand for the next player\n",
    "    global a\n",
    "    for i in ['O','X']:\n",
    "        if not(i==a):\n",
    "            a=i\n",
    "            break\n",
    "def reset():                #Resets the game\n",
    "    global a\n",
    "    for i in range(3):\n",
    "        for j in range(3):\n",
    "                b[i][j][\"text\"]=\" \"\n",
    "                b[i][j][\"state\"]=NORMAL\n",
    "    a=r.choice(['O','X'])\n",
    "def check():                #Checks for victory or Draw\n",
    "    for i in range(3):\n",
    "            if(b[i][0][\"text\"]==b[i][1][\"text\"]==b[i][2][\"text\"]==a or b[0][i][\"text\"]==b[1][i][\"text\"]==b[2][i][\"text\"]==a):\n",
    "                    messagebox.showinfo(\"Congrats!!\",\"'\"+a+\"' has won\")\n",
    "                    reset()\n",
    "    if(b[0][0][\"text\"]==b[1][1][\"text\"]==b[2][2][\"text\"]==a or b[0][2][\"text\"]==b[1][1][\"text\"]==b[2][0][\"text\"]==a):\n",
    "        messagebox.showinfo(\"Congrats!!\",\"'\"+a+\"' has won\")\n",
    "        reset()   \n",
    "    elif(b[0][0][\"state\"]==b[0][1][\"state\"]==b[0][2][\"state\"]==b[1][0][\"state\"]==b[1][1][\"state\"]==b[1][2][\"state\"]==b[2][0][\"state\"]==b[2][1][\"state\"]==b[2][2][\"state\"]==DISABLED):\n",
    "        messagebox.showinfo(\"Tied!!\",\"The match ended in a draw\")\n",
    "        reset()\n",
    "def click(row,col):\n",
    "        b[row][col].config(text=a,state=DISABLED,disabledforeground=colour[a])\n",
    "        check()\n",
    "        change_a()\n",
    "        label.config(text=a+\"'s Chance\")\n",
    "###############   Main Program #################\n",
    "root=Tk()                   #Window defined\n",
    "root.title(\"Tic-Tac-Toe\")   #Title given\n",
    "a=r.choice(['O','X'])       #Two operators defined\n",
    "colour={'O':\"deep sky blue\",'X':\"lawn green\"}\n",
    "b=[[],[],[]]\n",
    "for i in range(3):\n",
    "        for j in range(3):\n",
    "                b[i].append(button(root))\n",
    "                b[i][j].config(command= lambda row=i,col=j:click(row,col))\n",
    "                b[i][j].grid(row=i,column=j)\n",
    "label=Label(text=a+\"'s Chance\",font=('arial',20,'bold'))\n",
    "label.grid(row=3,column=0,columnspan=3)\n",
    "root.mainloop()"
   ]
  },
  {
   "cell_type": "code",
   "execution_count": null,
   "id": "595cca2a",
   "metadata": {},
   "outputs": [],
   "source": []
  },
  {
   "cell_type": "code",
   "execution_count": null,
   "id": "8518935a",
   "metadata": {},
   "outputs": [],
   "source": []
  }
 ],
 "metadata": {
  "kernelspec": {
   "display_name": "Python 3 (ipykernel)",
   "language": "python",
   "name": "python3"
  },
  "language_info": {
   "codemirror_mode": {
    "name": "ipython",
    "version": 3
   },
   "file_extension": ".py",
   "mimetype": "text/x-python",
   "name": "python",
   "nbconvert_exporter": "python",
   "pygments_lexer": "ipython3",
   "version": "3.9.7"
  }
 },
 "nbformat": 4,
 "nbformat_minor": 5
}
